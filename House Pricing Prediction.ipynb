{
 "cells": [
  {
   "cell_type": "markdown",
   "id": "18f737db",
   "metadata": {},
   "source": [
    "### House Pricing Prediction "
   ]
  },
  {
   "cell_type": "code",
   "execution_count": null,
   "id": "0b065aef",
   "metadata": {},
   "outputs": [],
   "source": [
    "## Loading Generic Libraries\n",
    "import pandas as pd\n",
    "import numpy as np\n",
    "import matplotlib.pyplot as plt"
   ]
  },
  {
   "cell_type": "markdown",
   "id": "ec9ca5b2",
   "metadata": {},
   "source": [
    "##### Loading Federal Reserve Data"
   ]
  },
  {
   "cell_type": "code",
   "execution_count": null,
   "id": "7d595d18",
   "metadata": {},
   "outputs": [],
   "source": [
    "fed_files =[\"MORTGAGE30US.csv\", \"RRVRUSQ156N.csv\", \"CPIAUCSL.csv\"]\n",
    "dfs = [pd.read_csv(f, parse_dates=True, index_col=0)  for f in fed_files]"
   ]
  },
  {
   "cell_type": "code",
   "execution_count": null,
   "id": "bb451c15",
   "metadata": {},
   "outputs": [],
   "source": [
    "dfs[0]"
   ]
  },
  {
   "cell_type": "code",
   "execution_count": null,
   "id": "e63f85bd",
   "metadata": {},
   "outputs": [],
   "source": [
    "dfs[1]"
   ]
  },
  {
   "cell_type": "code",
   "execution_count": null,
   "id": "757eb562",
   "metadata": {},
   "outputs": [],
   "source": [
    "dfs[2]"
   ]
  },
  {
   "cell_type": "code",
   "execution_count": null,
   "id": "11512562",
   "metadata": {},
   "outputs": [],
   "source": [
    "fed_data = pd.concat(dfs, axis=1)"
   ]
  },
  {
   "cell_type": "code",
   "execution_count": null,
   "id": "fac37b47",
   "metadata": {},
   "outputs": [],
   "source": [
    "fed_data"
   ]
  },
  {
   "cell_type": "code",
   "execution_count": null,
   "id": "9877b9fb",
   "metadata": {},
   "outputs": [],
   "source": [
    "fed_data.tail(50)"
   ]
  },
  {
   "cell_type": "code",
   "execution_count": null,
   "id": "f1f19357",
   "metadata": {},
   "outputs": [],
   "source": [
    "fed_data= fed_data.ffill()"
   ]
  },
  {
   "cell_type": "code",
   "execution_count": null,
   "id": "f5890886",
   "metadata": {},
   "outputs": [],
   "source": [
    "fed_data.tail(50)"
   ]
  },
  {
   "cell_type": "markdown",
   "id": "b770dee7",
   "metadata": {},
   "source": [
    "#### Loading Zillow House Price Data"
   ]
  },
  {
   "cell_type": "code",
   "execution_count": null,
   "id": "34ea68c7",
   "metadata": {},
   "outputs": [],
   "source": [
    "zillow_files = [\"Metro_median_sale_price_uc_sfrcondo_week.csv\",\"Metro_zhvi_uc_sfrcondo_tier_0.33_0.67_month.csv\"]\n",
    "dfs = [pd.read_csv(f) for f in zillow_files]"
   ]
  },
  {
   "cell_type": "code",
   "execution_count": null,
   "id": "d298fc5b",
   "metadata": {},
   "outputs": [],
   "source": [
    "dfs[0]"
   ]
  },
  {
   "cell_type": "code",
   "execution_count": null,
   "id": "799efd10",
   "metadata": {},
   "outputs": [],
   "source": [
    "dfs=[pd.DataFrame(df.iloc[0,5:])for df in dfs]"
   ]
  },
  {
   "cell_type": "code",
   "execution_count": null,
   "id": "c782f5e2",
   "metadata": {},
   "outputs": [],
   "source": [
    "dfs[0]"
   ]
  },
  {
   "cell_type": "code",
   "execution_count": null,
   "id": "f07b2b1d",
   "metadata": {},
   "outputs": [],
   "source": [
    "dfs[1]"
   ]
  },
  {
   "cell_type": "code",
   "execution_count": null,
   "id": "e2aa5728",
   "metadata": {},
   "outputs": [],
   "source": [
    "for df in dfs:\n",
    "    df.index = pd.to_datetime(df.index) \n",
    "    df[\"month\"] = df.index.to_period(\"M\")"
   ]
  },
  {
   "cell_type": "code",
   "execution_count": null,
   "id": "b36ea210",
   "metadata": {},
   "outputs": [],
   "source": [
    "dfs[0]"
   ]
  },
  {
   "cell_type": "code",
   "execution_count": null,
   "id": "bfed0006",
   "metadata": {},
   "outputs": [],
   "source": [
    "price_data = dfs[0].merge(dfs[1], on=\"month\")"
   ]
  },
  {
   "cell_type": "code",
   "execution_count": null,
   "id": "44c4a803",
   "metadata": {},
   "outputs": [],
   "source": [
    "price_data.index = dfs[0].index"
   ]
  },
  {
   "cell_type": "code",
   "execution_count": null,
   "id": "55a2bd43",
   "metadata": {},
   "outputs": [],
   "source": [
    "price_data"
   ]
  },
  {
   "cell_type": "code",
   "execution_count": null,
   "id": "100e175a",
   "metadata": {},
   "outputs": [],
   "source": [
    "del price_data[\"month\"]\n",
    "price_data.columns = [\"price\",\"value\"]"
   ]
  },
  {
   "cell_type": "code",
   "execution_count": null,
   "id": "c7923812",
   "metadata": {},
   "outputs": [],
   "source": [
    "price_data"
   ]
  },
  {
   "cell_type": "markdown",
   "id": "93f9b19f",
   "metadata": {},
   "source": [
    "#### Preparing Data For Machine Learning"
   ]
  },
  {
   "cell_type": "code",
   "execution_count": null,
   "id": "932104fd",
   "metadata": {},
   "outputs": [],
   "source": [
    "fed_data = fed_data.dropna()"
   ]
  },
  {
   "cell_type": "code",
   "execution_count": null,
   "id": "58d619cc",
   "metadata": {},
   "outputs": [],
   "source": [
    "fed_data"
   ]
  },
  {
   "cell_type": "code",
   "execution_count": null,
   "id": "fa681eeb",
   "metadata": {},
   "outputs": [],
   "source": [
    "fed_data.tail(20)"
   ]
  },
  {
   "cell_type": "code",
   "execution_count": null,
   "id": "47ed0cd8",
   "metadata": {},
   "outputs": [],
   "source": [
    "from datetime import timedelta \n",
    "fed_data.index = fed_data.index + timedelta(days=2)"
   ]
  },
  {
   "cell_type": "code",
   "execution_count": null,
   "id": "c2f216de",
   "metadata": {},
   "outputs": [],
   "source": [
    "fed_data"
   ]
  },
  {
   "cell_type": "code",
   "execution_count": null,
   "id": "a3a12994",
   "metadata": {},
   "outputs": [],
   "source": [
    "price_data = fed_data.merge(price_data, left_index=True, right_index=True)"
   ]
  },
  {
   "cell_type": "code",
   "execution_count": null,
   "id": "39268780",
   "metadata": {},
   "outputs": [],
   "source": [
    "price_data"
   ]
  },
  {
   "cell_type": "markdown",
   "id": "f89fefbe",
   "metadata": {},
   "source": [
    "#### Setting Up Machine Learning Target"
   ]
  },
  {
   "cell_type": "code",
   "execution_count": null,
   "id": "e24ce3e4",
   "metadata": {},
   "outputs": [],
   "source": [
    "price_data.columns = [\"interest\", \"vacancy\", \"cpi\", \"price\", \"value\"]"
   ]
  },
  {
   "cell_type": "code",
   "execution_count": null,
   "id": "e40a9aab",
   "metadata": {},
   "outputs": [],
   "source": [
    "price_data"
   ]
  },
  {
   "cell_type": "code",
   "execution_count": null,
   "id": "b6f60de4",
   "metadata": {},
   "outputs": [],
   "source": [
    "price_data.plot.line(y=\"price\", use_index=True)\n"
   ]
  },
  {
   "cell_type": "code",
   "execution_count": null,
   "id": "c74763f1",
   "metadata": {},
   "outputs": [],
   "source": [
    " price_data[\"adj_price\"] = price_data[\"price\"] / price_data[\"cpi\"] * 100"
   ]
  },
  {
   "cell_type": "code",
   "execution_count": null,
   "id": "35217a19",
   "metadata": {},
   "outputs": [],
   "source": [
    "price_data.plot.line(y=\"adj_price\", use_index=True)"
   ]
  },
  {
   "cell_type": "code",
   "execution_count": null,
   "id": "8eb8eb95",
   "metadata": {},
   "outputs": [],
   "source": [
    "price_data[\"adj_value\"] = price_data[\"value\"] / price_data[\"cpi\"] * 100"
   ]
  },
  {
   "cell_type": "code",
   "execution_count": null,
   "id": "99066cbb",
   "metadata": {},
   "outputs": [],
   "source": [
    "price_data.plot.line(y=\"adj_value\", use_index=True)"
   ]
  },
  {
   "cell_type": "code",
   "execution_count": null,
   "id": "3134bcbd",
   "metadata": {},
   "outputs": [],
   "source": [
    "price_data[\"next_quarter\"] = price_data[\"adj_price\"].shift(-13)"
   ]
  },
  {
   "cell_type": "code",
   "execution_count": null,
   "id": "34992fd7",
   "metadata": {},
   "outputs": [],
   "source": [
    "price_data"
   ]
  },
  {
   "cell_type": "code",
   "execution_count": null,
   "id": "298e18c4",
   "metadata": {},
   "outputs": [],
   "source": [
    "price_data.dropna(inplace=True)"
   ]
  },
  {
   "cell_type": "code",
   "execution_count": null,
   "id": "59ea17c8",
   "metadata": {},
   "outputs": [],
   "source": [
    "price_data"
   ]
  },
  {
   "cell_type": "code",
   "execution_count": null,
   "id": "acffa64e",
   "metadata": {},
   "outputs": [],
   "source": [
    "price_data[\"change\"] = (price_data[\"next_quarter\"] > price_data[\"adj_price\"]).astype(int)"
   ]
  },
  {
   "cell_type": "code",
   "execution_count": null,
   "id": "f0795465",
   "metadata": {},
   "outputs": [],
   "source": [
    "price_data"
   ]
  },
  {
   "cell_type": "code",
   "execution_count": null,
   "id": "9f97a94f",
   "metadata": {},
   "outputs": [],
   "source": [
    "price_data[\"change\"].value_counts()"
   ]
  },
  {
   "cell_type": "code",
   "execution_count": null,
   "id": "3df23458",
   "metadata": {},
   "outputs": [],
   "source": [
    "predictors = [\"interest\", \"vacancy\", \"adj_price\", \"adj_value\"]\n",
    "target = \"change\""
   ]
  },
  {
   "cell_type": "markdown",
   "id": "28f97ac2",
   "metadata": {},
   "source": [
    "#### Creating A Machine Learning Model"
   ]
  },
  {
   "cell_type": "code",
   "execution_count": null,
   "id": "04679219",
   "metadata": {},
   "outputs": [],
   "source": [
    "from sklearn.ensemble import RandomForestClassifier\n",
    "from sklearn.metrics import accuracy_score"
   ]
  },
  {
   "cell_type": "code",
   "execution_count": null,
   "id": "37e9c46d",
   "metadata": {},
   "outputs": [],
   "source": [
    "START = 260\n",
    "STEP = 52\n",
    "\n",
    "\n",
    "def predict(train, test, predictors, target):\n",
    "    rf = RandomForestClassifier(min_samples_split=10, random_state=1)\n",
    "    rf.fit(train[predictors], train[target])\n",
    "    preds = rf.predict(test[predictors])\n",
    "    return preds"
   ]
  },
  {
   "cell_type": "markdown",
   "id": "605a2d69",
   "metadata": {},
   "source": [
    "#### Creating A Backtesting Engine"
   ]
  },
  {
   "cell_type": "code",
   "execution_count": null,
   "id": "c732b051",
   "metadata": {},
   "outputs": [],
   "source": [
    "def backtest(data, predictors, target):\n",
    "    all_preds = []\n",
    "    for i in range(START, data.shape[0], STEP):\n",
    "        train = price_data.iloc[:i]\n",
    "        test = price_data.iloc[i:(i+STEP)]\n",
    "        all_preds.append(predict(train, test, predictors, target))\n",
    "        \n",
    "    preds = np.concatenate(all_preds)\n",
    "    return preds, accuracy_score(data.iloc[START:][target], preds)"
   ]
  },
  {
   "cell_type": "markdown",
   "id": "2553e2bc",
   "metadata": {},
   "source": [
    "#### Measuring Error"
   ]
  },
  {
   "cell_type": "code",
   "execution_count": null,
   "id": "41b9ba80",
   "metadata": {},
   "outputs": [],
   "source": [
    "preds, accuracy = backtest(price_data, predictors, target)"
   ]
  },
  {
   "cell_type": "code",
   "execution_count": null,
   "id": "58806bc8",
   "metadata": {},
   "outputs": [],
   "source": [
    "accuracy"
   ]
  },
  {
   "cell_type": "markdown",
   "id": "10fe653a",
   "metadata": {},
   "source": [
    "#### Improving Our Accuracy"
   ]
  },
  {
   "cell_type": "code",
   "execution_count": null,
   "id": "1c0c1fbe",
   "metadata": {},
   "outputs": [],
   "source": [
    "yearly = price_data.rolling(52, min_periods=1).mean()"
   ]
  },
  {
   "cell_type": "code",
   "execution_count": null,
   "id": "faf58c2c",
   "metadata": {},
   "outputs": [],
   "source": [
    "yearly"
   ]
  },
  {
   "cell_type": "code",
   "execution_count": null,
   "id": "755c18a9",
   "metadata": {},
   "outputs": [],
   "source": [
    "yearly_ratios = [p + \"_year\" for p in predictors]\n",
    "price_data[yearly_ratios] = price_data[predictors] / yearly[predictors]"
   ]
  },
  {
   "cell_type": "code",
   "execution_count": null,
   "id": "54c56c06",
   "metadata": {},
   "outputs": [],
   "source": [
    "price_data"
   ]
  },
  {
   "cell_type": "code",
   "execution_count": null,
   "id": "11c0efb1",
   "metadata": {},
   "outputs": [],
   "source": [
    "preds, accuracy = backtest(price_data, predictors + yearly_ratios, target)"
   ]
  },
  {
   "cell_type": "code",
   "execution_count": null,
   "id": "e8f3a336",
   "metadata": {},
   "outputs": [],
   "source": [
    "accuracy"
   ]
  },
  {
   "cell_type": "markdown",
   "id": "e0db7f79",
   "metadata": {},
   "source": [
    "#### Running Diagnostics On Our Model"
   ]
  },
  {
   "cell_type": "code",
   "execution_count": null,
   "id": "da4997be",
   "metadata": {},
   "outputs": [],
   "source": [
    "pred_match = (preds == price_data[target].iloc[START:])"
   ]
  },
  {
   "cell_type": "code",
   "execution_count": null,
   "id": "d3d09c9a",
   "metadata": {},
   "outputs": [],
   "source": [
    "## red colored points shows where our model prediction gone wrong while green ones shows the right predictions\n",
    "pred_match[pred_match == True] = \"green\"\n",
    "pred_match[pred_match == False] = \"red\""
   ]
  },
  {
   "cell_type": "code",
   "execution_count": null,
   "id": "b4eadfdf",
   "metadata": {},
   "outputs": [],
   "source": [
    "plot_data = price_data.iloc[START:].copy()\n",
    "plot_data.reset_index().plot.scatter(x=\"index\", y=\"adj_price\",color=pred_match)\n",
    "plt.show"
   ]
  },
  {
   "cell_type": "code",
   "execution_count": null,
   "id": "f07845f8",
   "metadata": {},
   "outputs": [],
   "source": [
    "## finding the most importnat variables on which our model depends \n",
    "from sklearn.inspection import permutation_importance\n",
    "rf = RandomForestClassifier(min_samples_split = 10, random_state =1)\n",
    "rf.fit(price_data[predictors], price_data[target])\n",
    "result = permutation_importance(rf, price_data[predictors],price_data[target], n_repeats=10, random_state =1  )"
   ]
  },
  {
   "cell_type": "code",
   "execution_count": null,
   "id": "a7edf8a1",
   "metadata": {},
   "outputs": [],
   "source": [
    "result[\"importances_mean\"]"
   ]
  },
  {
   "cell_type": "code",
   "execution_count": null,
   "id": "4a97c141",
   "metadata": {},
   "outputs": [],
   "source": [
    "predictors"
   ]
  }
 ],
 "metadata": {
  "kernelspec": {
   "display_name": "Python 3 (ipykernel)",
   "language": "python",
   "name": "python3"
  },
  "language_info": {
   "codemirror_mode": {
    "name": "ipython",
    "version": 3
   },
   "file_extension": ".py",
   "mimetype": "text/x-python",
   "name": "python",
   "nbconvert_exporter": "python",
   "pygments_lexer": "ipython3",
   "version": "3.10.9"
  }
 },
 "nbformat": 4,
 "nbformat_minor": 5
}
